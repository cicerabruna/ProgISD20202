{
  "nbformat": 4,
  "nbformat_minor": 0,
  "metadata": {
    "colab": {
      "name": "Untitled0.ipynb",
      "provenance": []
    },
    "kernelspec": {
      "name": "python3",
      "display_name": "Python 3"
    }
  },
  "cells": [
    {
      "cell_type": "code",
      "metadata": {
        "id": "0_4gBqAJRhei",
        "colab_type": "code",
        "colab": {}
      },
      "source": [
        "import os\n",
        "\n",
        "import numpy as np\n",
        "import matplotlib.pyplot as plt\n"
      ],
      "execution_count": null,
      "outputs": []
    },
    {
      "cell_type": "code",
      "metadata": {
        "id": "RyATzdWORpn1",
        "colab_type": "code",
        "colab": {}
      },
      "source": [
        "try:\n",
        "    from nibabel import load\n",
        "except ImportError:\n",
        "    raise ImportError('You need nibabel (http:/nipy.org/nibabel/) in order to run this example')"
      ],
      "execution_count": null,
      "outputs": []
    },
    {
      "cell_type": "code",
      "metadata": {
        "id": "rWvLxkicRuC4",
        "colab_type": "code",
        "colab": {}
      },
      "source": [
        "!pip install nitime\n",
        "\n"
      ],
      "execution_count": null,
      "outputs": []
    },
    {
      "cell_type": "code",
      "metadata": {
        "id": "wu74ujHyT8Lw",
        "colab_type": "code",
        "colab": {}
      },
      "source": [
        "import nitime\n",
        "import nitime.analysis as nta\n",
        "import nitime.fmri.io as io"
      ],
      "execution_count": null,
      "outputs": []
    },
    {
      "cell_type": "code",
      "metadata": {
        "id": "D2A-XKbRT9Uj",
        "colab_type": "code",
        "colab": {}
      },
      "source": [
        "def parametros():\n",
        "  TR = float(input('Informe o valor do TR [1.35]: '))\n",
        "  f_lb = float(input('Informe o valor de f_lb [0.02]: '))\n",
        "  f_ub = float(input('Informe o valor de f_lb [0.15]: '))\n",
        "  return TR, f_lb, f_ub"
      ],
      "execution_count": null,
      "outputs": []
    },
    {
      "cell_type": "code",
      "metadata": {
        "id": "sAZLzAe6WpR7",
        "colab_type": "code",
        "colab": {}
      },
      "source": [
        "TR, f_lb, f_ub = parametros()"
      ],
      "execution_count": null,
      "outputs": []
    },
    {
      "cell_type": "code",
      "metadata": {
        "id": "K1IM507WUAsC",
        "colab_type": "code",
        "colab": {}
      },
      "source": [
        "data_path = test_dir_path = os.path.join(nitime.__path__[0], 'data')\n",
        "\n",
        "fmri_file = os.path.join(data_path, 'fmri1.nii.gz')"
      ],
      "execution_count": null,
      "outputs": []
    },
    {
      "cell_type": "code",
      "metadata": {
        "id": "C-ag3ZdYUDC-",
        "colab_type": "code",
        "colab": {}
      },
      "source": [
        "fmri_data = load(fmri_file)"
      ],
      "execution_count": null,
      "outputs": []
    },
    {
      "cell_type": "code",
      "metadata": {
        "id": "2S0rot-pUk6N",
        "colab_type": "code",
        "colab": {}
      },
      "source": [
        "volume_shape = fmri_data.shape[:-1]\n",
        "\n",
        "coords = list(np.ndindex(volume_shape))"
      ],
      "execution_count": null,
      "outputs": []
    },
    {
      "cell_type": "code",
      "metadata": {
        "id": "PeE2o7XaUm-O",
        "colab_type": "code",
        "colab": {}
      },
      "source": [
        "n_seeds = 3"
      ],
      "execution_count": null,
      "outputs": []
    },
    {
      "cell_type": "code",
      "metadata": {
        "id": "TdjlAljwUpbh",
        "colab_type": "code",
        "colab": {}
      },
      "source": [
        "seeds = np.random.randint(0, len(coords), n_seeds)\n",
        "coords_seeds = np.array(coords)[seeds].T"
      ],
      "execution_count": null,
      "outputs": []
    },
    {
      "cell_type": "code",
      "metadata": {
        "id": "m20Lpw_iUrGy",
        "colab_type": "code",
        "colab": {}
      },
      "source": [
        "coords_target = np.array(coords).T"
      ],
      "execution_count": null,
      "outputs": []
    },
    {
      "cell_type": "code",
      "metadata": {
        "id": "va1mv0yiUuxr",
        "colab_type": "code",
        "colab": {}
      },
      "source": [
        "time_series_seed = io.time_series_from_file(fmri_file, coords_seeds, TR=TR, normalize='percent', filter=dict(lb=f_lb, ub=f_ub, method='boxcar'))"
      ],
      "execution_count": null,
      "outputs": []
    },
    {
      "cell_type": "code",
      "metadata": {
        "id": "s3QSRKkrUw3X",
        "colab_type": "code",
        "colab": {}
      },
      "source": [
        "time_series_target = io.time_series_from_file(fmri_file, coords_target, TR=TR, normalize='percent',filter=dict(lb=f_lb, ub=f_ub, method='boxcar'))"
      ],
      "execution_count": null,
      "outputs": []
    },
    {
      "cell_type": "code",
      "metadata": {
        "id": "Q21HZX4WU01F",
        "colab_type": "code",
        "colab": {}
      },
      "source": [
        "A = nta.SeedCoherenceAnalyzer(time_series_seed, time_series_target, method=dict(NFFT=20))"
      ],
      "execution_count": null,
      "outputs": []
    },
    {
      "cell_type": "code",
      "metadata": {
        "id": "gr2DtLdPU23G",
        "colab_type": "code",
        "colab": {}
      },
      "source": [
        "B = nta.SeedCorrelationAnalyzer(time_series_seed, time_series_target)"
      ],
      "execution_count": null,
      "outputs": []
    },
    {
      "cell_type": "code",
      "metadata": {
        "id": "S67s8CMoU8gT",
        "colab_type": "code",
        "colab": {}
      },
      "source": [
        "freq_idx = np.where((A.frequencies > f_lb) * (A.frequencies < f_ub))[0]"
      ],
      "execution_count": null,
      "outputs": []
    },
    {
      "cell_type": "code",
      "metadata": {
        "id": "m3CXSyJRU-h8",
        "colab_type": "code",
        "colab": {}
      },
      "source": [
        "cor = []\n",
        "coh = []\n",
        "for this_seed in range(n_seeds):\n",
        "  coh.append(np.mean(A.coherence[this_seed][:, freq_idx], -1))  \n",
        "  cor.append(B.corrcoef[this_seed]) "
      ],
      "execution_count": null,
      "outputs": []
    },
    {
      "cell_type": "code",
      "metadata": {
        "id": "4jb5NTsEVA-c",
        "colab_type": "code",
        "colab": {}
      },
      "source": [
        "coords_indices = list(coords_target)\n",
        "\n",
        "vol_coh = []\n",
        "vol_cor = []\n",
        "for this_vol in range(n_seeds):\n",
        "    vol_coh.append(np.empty(volume_shape))\n",
        "    vol_coh[-1][coords_indices] = coh[this_vol]\n",
        "    vol_cor.append(np.empty(volume_shape))\n",
        "    vol_cor[-1][coords_indices] = cor[this_vol]\n",
        "    "
      ],
      "execution_count": null,
      "outputs": []
    },
    {
      "cell_type": "code",
      "metadata": {
        "id": "mXckiqyiVHi5",
        "colab_type": "code",
        "colab": {}
      },
      "source": [
        "random_slice = np.random.randint(0, volume_shape[-1], 1)"
      ],
      "execution_count": null,
      "outputs": []
    },
    {
      "cell_type": "code",
      "metadata": {
        "id": "h0ibGrKlVJ1Q",
        "colab_type": "code",
        "colab": {
          "base_uri": "https://localhost:8080/",
          "height": 425
        },
        "outputId": "44254983-9c2b-43d3-effa-89a559aa5d57"
      },
      "source": [
        "fig01 = plt.figure()\n",
        "fig02 = plt.figure()\n",
        "ax_coh = []\n",
        "ax_cor = []\n",
        "for this_vox in range(n_seeds):\n",
        "    ax_coh.append(fig01.add_subplot(1, n_seeds, this_vox + 1))\n",
        "    ax_coh[-1].matshow(vol_coh[this_vox][:, :, random_slice].squeeze())\n",
        "    ax_coh[-1].set_title('Seed coords: %s' % coords_seeds[:, this_vox])\n",
        "\n",
        "    ax_cor.append(fig02.add_subplot(1, n_seeds, this_vox + 1))\n",
        "    ax_cor[-1].matshow(vol_cor[this_vox][:, :, random_slice].squeeze())\n",
        "    ax_cor[-1].set_title('Seed coords: %s' % coords_seeds[:, this_vox])\n",
        "\n",
        "for x in zip(['Coherence', 'Correlation'], [fig01, fig02]):\n",
        "    suptit = '%s between all the voxels in slice: ' % x[0]\n",
        "    suptit += '%i and seed voxels' % random_slice\n",
        "    x[1].suptitle(suptit)\n",
        "\n",
        "plt.show()"
      ],
      "execution_count": 53,
      "outputs": [
        {
          "output_type": "display_data",
          "data": {
            "image/png": "[encoded data removed]",
            "text/plain": [
              "<Figure size 432x288 with 3 Axes>"
            ]
          },
          "metadata": {
            "tags": [],
            "needs_background": "light"
          }
        },
        {
          "output_type": "display_data",
          "data": {
            "image/png": "[encoded data removed]",
            "text/plain": [
              "<Figure size 432x288 with 3 Axes>"
            ]
          },
          "metadata": {
            "tags": [],
            "needs_background": "light"
          }
        }
      ]
    }
  ]
}